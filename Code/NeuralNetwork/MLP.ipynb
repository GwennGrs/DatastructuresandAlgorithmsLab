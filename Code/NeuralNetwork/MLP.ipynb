{
 "cells": [
  {
   "cell_type": "code",
   "execution_count": 102,
   "metadata": {},
   "outputs": [
    {
     "name": "stdout",
     "output_type": "stream",
     "text": [
      "Training complete!\n",
      "=====\n",
      "\n",
      "Précision sur l'ensemble de test: 100.00%\n"
     ]
    }
   ],
   "source": [
    "import numpy as np\n",
    "from sklearn import datasets\n",
    "from sklearn.model_selection import train_test_split\n",
    "from sklearn.preprocessing import OneHotEncoder, MinMaxScaler\n",
    "from multilayerPerceptron import MLP\n",
    "from function import one_hot_encoder\n",
    "\n",
    "# Charger et préparer les données\n",
    "iris = datasets.load_iris()\n",
    "\n",
    "# Charger les caractéristiques (features) et les étiquettes (labels)\n",
    "X = iris.data  # Caractéristiques\n",
    "y = iris.target.reshape(-1, 1)  # Labels\n",
    "\n",
    "# Normaliser les caractéristiques (X) entre 0 et 1\n",
    "scaler = MinMaxScaler()\n",
    "X_scaled = scaler.fit_transform(X)\n",
    "\n",
    "# Appliquer one-hot encoding aux labels\n",
    "encoder = OneHotEncoder(sparse_output=False)\n",
    "y_encoded = encoder.fit_transform(y)\n",
    "\n",
    "# Diviser le jeu de données en ensemble d'entraînement et de test\n",
    "X_train, X_test, y_train, y_test = train_test_split(X_scaled, y_encoded, test_size=0.2)\n",
    "    # Étape 2 : Créer et entraîner le MLP\n",
    "mlp = MLP(num_inputs=4, hidden_layers=[5], num_outputs=3)  # 4 entrées, 1 couche cachée avec 5 neurones, 3 sorties\n",
    "mlp.train(X_train, y_train, epochs=250, learning_rate=0.1)\n",
    "\n",
    "    # Étape 3 : Tester le MLP sur les données de test\n",
    "correct = 0\n",
    "for i, input in enumerate(X_test):\n",
    "    # Faire une prédiction\n",
    "    output = mlp.forward_propagate(input)\n",
    "\n",
    "        # Trouver l'index de la classe prédite (avec la plus grande probabilité)\n",
    "    predicted_class = np.argmax(output)\n",
    "        \n",
    "        # Trouver l'index de la vraie classe\n",
    "    true_class = np.argmax(y_test[i])\n",
    "        \n",
    "    if predicted_class == true_class:\n",
    "        correct += 1\n",
    "\n",
    "    # Afficher les résultats\n",
    "print()\n",
    "print(\"Précision sur l'ensemble de test: {:.2f}%\".format((correct / len(X_test)) * 100))"
   ]
  },
  {
   "cell_type": "code",
   "execution_count": 103,
   "metadata": {},
   "outputs": [
    {
     "name": "stdout",
     "output_type": "stream",
     "text": [
      "[0.55555556 0.20833333 0.6779661  0.75      ] [0. 0. 1.]\n",
      "Class prédite 2  vrai classe 2\n"
     ]
    }
   ],
   "source": [
    "from random import randint\n",
    "nb = randint(1,29)\n",
    "print(X_test[nb], y_test[nb])\n",
    "output = mlp.forward_propagate(X_test[nb])\n",
    "predicted_class = np.argmax(output)\n",
    "true_class = np.argmax(y_test[nb])\n",
    "print(\"Class prédite\", predicted_class, \" vrai classe\", true_class)\n"
   ]
  },
  {
   "cell_type": "markdown",
   "metadata": {},
   "source": [
    "Import des datas"
   ]
  },
  {
   "cell_type": "code",
   "execution_count": 106,
   "metadata": {},
   "outputs": [],
   "source": [
    "# #On va maintenant utiliser d'autres data plus complexe.\n",
    "# from ucimlrepo import fetch_ucirepo  \n",
    "# # fetch dataset \n",
    "# adult = fetch_ucirepo(id=2) \n",
    "  \n",
    "# # metadata and variables informations\n",
    "# print(adult.metadata) \n",
    "# print(adult.variables) \n",
    "\n",
    "# # data (as pandas dataframes) \n",
    "# X = adult.data.features \n",
    "# y = adult.data.targets \n",
    "\n",
    "# #nb de val: 48842\n",
    "# X_raccourci = X[0:1000]\n",
    "# Y_raccourci = y[0:1000]\n",
    "\n",
    "# #Normalisé les données afin de rendre l'algo plus éfficace et performant\n",
    "# #scaler = MinMaxScaler()\n",
    "# #X_scaled = scaler.fit_transform(X)"
   ]
  },
  {
   "cell_type": "code",
   "execution_count": 108,
   "metadata": {},
   "outputs": [
    {
     "name": "stdout",
     "output_type": "stream",
     "text": [
      "[[0.         0.27117366 0.2        ... 0.01415106 0.         1.        ]\n",
      " [1.         0.4722292  0.2        ... 0.13913574 0.         0.        ]\n",
      " [1.         0.32143755 0.         ... 0.01546857 0.         1.        ]\n",
      " ...\n",
      " [1.         0.23347575 0.         ... 0.0585561  0.         1.        ]\n",
      " [0.         0.32143755 0.         ... 0.0585561  0.         0.        ]\n",
      " [0.         0.39683338 0.         ... 0.01512699 1.         0.        ]]\n",
      "Training complete!\n",
      "=====\n",
      "[[0.         0.4282483  0.         ... 0.01528158 1.         0.        ]\n",
      " [1.         0.58532295 0.2        ... 0.01366309 0.         1.        ]\n",
      " [0.         0.77381252 0.         ... 0.01890874 1.         0.        ]\n",
      " ...\n",
      " [1.         0.34656949 0.         ... 0.01517579 0.         1.        ]\n",
      " [1.         0.48479517 0.         ... 0.21255864 0.         0.        ]\n",
      " [0.         0.47851219 0.         ... 0.01415106 0.         1.        ]]\n",
      "Précision sur l'ensemble de test: 86.71%\n"
     ]
    }
   ],
   "source": [
    "import pandas as pd\n",
    "train = pd.read_csv('../input/titanic/train.csv')\n",
    "# BEGIN: Préparation des données pour le modèle MLP\n",
    "# Sélectionner les colonnes pertinentes et gérer les valeurs manquantes\n",
    "train = train[['Pclass', 'Sex', 'Age', 'SibSp', 'Parch', 'Fare', 'Embarked']]\n",
    "train = train.dropna()\n",
    "\n",
    "# Convertir les colonnes catégorielles en numériques\n",
    "train['Sex'] = train['Sex'].map({'male': 0, 'female': 1})\n",
    "train = pd.get_dummies(train, columns=['Embarked'], drop_first=True)\n",
    "\n",
    "# Normaliser les caractéristiques\n",
    "scaler = MinMaxScaler()\n",
    "X_train = scaler.fit_transform(train.drop('Pclass', axis=1))  # Supposons que 'Pclass' est la cible pour cet exemple\n",
    "\n",
    "# Appliquer one-hot encoding à la cible\n",
    "encoder = OneHotEncoder(sparse_output=False)\n",
    "y_train = encoder.fit_transform(train[['Pclass']])\n",
    "# END: Préparation des données pour le modèle MLP\n",
    "\n",
    "print(X_train)\n",
    "# Le nombre de sorties doit être 3 (one-hot encoding pour les classes 1, 2, 3)\n",
    "mlp = MLP(num_inputs=7, hidden_layers=[3,4], num_outputs=3)\n",
    "mlp.train(X_train, y_train, epochs=250, learning_rate=0.1)\n",
    "\n",
    "# Préparation des données de test pour le modèle MLP\n",
    "test = pd.read_csv('../input/titanic/test.csv')\n",
    "test = test[['Pclass', 'Sex', 'Age', 'SibSp', 'Parch', 'Fare', 'Embarked']]\n",
    "test = test.dropna()\n",
    "\n",
    "# Convertir les colonnes catégorielles en numériques\n",
    "test['Sex'] = test['Sex'].map({'male': 0, 'female': 1})\n",
    "test = pd.get_dummies(test, columns=['Embarked'], drop_first=True)\n",
    "\n",
    "# Normaliser les caractéristiques\n",
    "X_test = scaler.transform(test.drop('Pclass', axis=1))  # Supposons que 'Pclass' est la cible pour cet exemple\n",
    "print(X_test)\n",
    "# Appliquer one-hot encoding à la cible\n",
    "y_test = encoder.transform(test[['Pclass']])\n",
    "\n",
    "# Tester le modèle sur les données de test\n",
    "correct = 0\n",
    "for i, input in enumerate(X_test):\n",
    "    output = mlp.forward_propagate(input)\n",
    "    predicted_class = np.argmax(output)\n",
    "    true_class = np.argmax(y_test[i])\n",
    "    if predicted_class == true_class:\n",
    "        correct += 1\n",
    "\n",
    "print(\"Précision sur l'ensemble de test: {:.2f}%\".format((correct / len(X_test)) * 100))"
   ]
  },
  {
   "cell_type": "code",
   "execution_count": null,
   "metadata": {},
   "outputs": [],
   "source": []
  }
 ],
 "metadata": {
  "kernelspec": {
   "display_name": "Python 3",
   "language": "python",
   "name": "python3"
  },
  "language_info": {
   "codemirror_mode": {
    "name": "ipython",
    "version": 3
   },
   "file_extension": ".py",
   "mimetype": "text/x-python",
   "name": "python",
   "nbconvert_exporter": "python",
   "pygments_lexer": "ipython3",
   "version": "3.12.6"
  }
 },
 "nbformat": 4,
 "nbformat_minor": 2
}
