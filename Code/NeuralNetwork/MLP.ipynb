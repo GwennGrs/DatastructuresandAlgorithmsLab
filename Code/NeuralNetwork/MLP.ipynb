{
 "cells": [
  {
   "cell_type": "code",
   "execution_count": 1,
   "metadata": {},
   "outputs": [],
   "source": [
    "import numpy as np\n",
    "from sklearn import datasets\n",
    "from sklearn.model_selection import train_test_split\n",
    "from sklearn.preprocessing import OneHotEncoder, MinMaxScaler\n"
   ]
  },
  {
   "cell_type": "code",
   "execution_count": 2,
   "metadata": {},
   "outputs": [
    {
     "ename": "ModuleNotFoundError",
     "evalue": "No module named 'Code'",
     "output_type": "error",
     "traceback": [
      "\u001b[1;31m---------------------------------------------------------------------------\u001b[0m",
      "\u001b[1;31mModuleNotFoundError\u001b[0m                       Traceback (most recent call last)",
      "Cell \u001b[1;32mIn[2], line 1\u001b[0m\n\u001b[1;32m----> 1\u001b[0m \u001b[38;5;28;01mfrom\u001b[39;00m \u001b[38;5;21;01mmultilayerPerceptron\u001b[39;00m \u001b[38;5;28;01mimport\u001b[39;00m MLP\n\u001b[0;32m      2\u001b[0m \u001b[38;5;66;03m# Load and prepare data\u001b[39;00m\n\u001b[0;32m      3\u001b[0m iris \u001b[38;5;241m=\u001b[39m datasets\u001b[38;5;241m.\u001b[39mload_iris()\n",
      "File \u001b[1;32mc:\\Users\\gwenn\\Documents\\GitHub\\DatastructuresandAlgorithmsLab\\Code\\NeuralNetwork\\multilayerPerceptron.py:3\u001b[0m\n\u001b[0;32m      1\u001b[0m \u001b[38;5;28;01mimport\u001b[39;00m \u001b[38;5;21;01mnumpy\u001b[39;00m \u001b[38;5;28;01mas\u001b[39;00m \u001b[38;5;21;01mnp\u001b[39;00m\n\u001b[0;32m      2\u001b[0m \u001b[38;5;28;01mfrom\u001b[39;00m \u001b[38;5;21;01mrandom\u001b[39;00m \u001b[38;5;28;01mimport\u001b[39;00m random\n\u001b[1;32m----> 3\u001b[0m \u001b[38;5;28;01mfrom\u001b[39;00m \u001b[38;5;21;01mCode\u001b[39;00m\u001b[38;5;21;01m.\u001b[39;00m\u001b[38;5;21;01mNeuralNetwork\u001b[39;00m\u001b[38;5;21;01m.\u001b[39;00m\u001b[38;5;21;01mfunction\u001b[39;00m \u001b[38;5;28;01mimport\u001b[39;00m sigmoid, sigmoid_derivatives, mse\n\u001b[0;32m      6\u001b[0m \u001b[38;5;28;01mclass\u001b[39;00m \u001b[38;5;21;01mMLP\u001b[39;00m(\u001b[38;5;28mobject\u001b[39m):\n\u001b[0;32m      7\u001b[0m \u001b[38;5;250m    \u001b[39m\u001b[38;5;124;03m\"\"\"A Multilayer Perceptron class.\u001b[39;00m\n\u001b[0;32m      8\u001b[0m \u001b[38;5;124;03m    \"\"\"\u001b[39;00m\n",
      "\u001b[1;31mModuleNotFoundError\u001b[0m: No module named 'Code'"
     ]
    }
   ],
   "source": [
    "from multilayerPerceptron import MLP\n",
    "# Load and prepare data\n",
    "iris = datasets.load_iris()\n",
    "\n",
    "# Load features and labels\n",
    "X = iris.data  # Features\n",
    "y = iris.target.reshape(-1, 1)  # Labels\n",
    "\n",
    "# Normalize features (X) between 0 and 1\n",
    "scaler = MinMaxScaler()\n",
    "X_scaled = scaler.fit_transform(X)\n",
    "\n",
    "# Apply one-hot encoding to labels\n",
    "encoder = OneHotEncoder(sparse_output=False)\n",
    "y_encoded = encoder.fit_transform(y)\n",
    "\n",
    "# Split the dataset into training and testing sets\n",
    "X_train, X_test, y_train, y_test = train_test_split(X_scaled, y_encoded, test_size=0.2)\n",
    "    # Step 2: Create and train the MLP\n",
    "mlp = MLP(num_inputs=4, hidden_layers=[5], num_outputs=3)  # 4 inputs, 1 hidden layer with 5 neurons, 3 outputs\n",
    "mlp.train(X_train, y_train, epochs=250, learning_rate=0.1)\n",
    "\n",
    "    # Step 3: Test the MLP on the test data\n",
    "correct = 0\n",
    "for i, input in enumerate(X_test):\n",
    "    # Make a prediction\n",
    "    output = mlp.forward_propagate(input)\n",
    "\n",
    "        # Find the index of the predicted class (with the highest probability)\n",
    "    predicted_class = np.argmax(output)\n",
    "        \n",
    "        # Find the index of the real class\n",
    "    true_class = np.argmax(y_test[i])\n",
    "        \n",
    "    if predicted_class == true_class:\n",
    "        correct += 1\n",
    "\n",
    "    # Show results\n",
    "print()\n",
    "print(\"Accuracy on the test set: {:.2f}%\".format((correct / len(X_test)) * 100))"
   ]
  },
  {
   "cell_type": "code",
   "execution_count": 5,
   "metadata": {},
   "outputs": [
    {
     "name": "stdout",
     "output_type": "stream",
     "text": [
      "[0.47222222 0.375      0.59322034 0.58333333] [0. 1. 0.]\n",
      "Predicted class 1 true class 1\n"
     ]
    }
   ],
   "source": [
    "from random import randint\n",
    "nb = randint(1,29)\n",
    "print(X_test[nb], y_test[nb])\n",
    "output = mlp.forward_propagate(X_test[nb])\n",
    "predicted_class = np.argmax(output)\n",
    "true_class = np.argmax(y_test[nb])\n",
    "print(\"Predicted class\", predicted_class, \"true class\", true_class)"
   ]
  },
  {
   "cell_type": "markdown",
   "metadata": {},
   "source": [
    "Import des datas"
   ]
  },
  {
   "cell_type": "code",
   "execution_count": 22,
   "metadata": {},
   "outputs": [],
   "source": [
    "# #On va maintenant utiliser d'autres data plus complexe.\n",
    "# from ucimlrepo import fetch_ucirepo  \n",
    "# # fetch dataset \n",
    "# adult = fetch_ucirepo(id=2) \n",
    "  \n",
    "# # metadata and variables informations\n",
    "# print(adult.metadata) \n",
    "# print(adult.variables) \n",
    "\n",
    "# # data (as pandas dataframes) \n",
    "# X = adult.data.features \n",
    "# y = adult.data.targets \n",
    "\n",
    "# #nb de val: 48842\n",
    "# X_raccourci = X[0:1000]\n",
    "# Y_raccourci = y[0:1000]\n",
    "\n",
    "# #Normalisé les données afin de rendre l'algo plus éfficace et performant\n",
    "# #scaler = MinMaxScaler()\n",
    "# #X_scaled = scaler.fit_transform(X)"
   ]
  },
  {
   "cell_type": "code",
   "execution_count": 6,
   "metadata": {},
   "outputs": [
    {
     "name": "stdout",
     "output_type": "stream",
     "text": [
      "[[0.         0.27117366 0.2        ... 0.01415106 0.         1.        ]\n",
      " [1.         0.4722292  0.2        ... 0.13913574 0.         0.        ]\n",
      " [1.         0.32143755 0.         ... 0.01546857 0.         1.        ]\n",
      " ...\n",
      " [1.         0.23347575 0.         ... 0.0585561  0.         1.        ]\n",
      " [0.         0.32143755 0.         ... 0.0585561  0.         0.        ]\n",
      " [0.         0.39683338 0.         ... 0.01512699 1.         0.        ]]\n",
      "Training complete!\n",
      "=====\n",
      "[[0.         0.4282483  0.         ... 0.01528158 1.         0.        ]\n",
      " [1.         0.58532295 0.2        ... 0.01366309 0.         1.        ]\n",
      " [0.         0.77381252 0.         ... 0.01890874 1.         0.        ]\n",
      " ...\n",
      " [1.         0.34656949 0.         ... 0.01517579 0.         1.        ]\n",
      " [1.         0.48479517 0.         ... 0.21255864 0.         0.        ]\n",
      " [0.         0.47851219 0.         ... 0.01415106 0.         1.        ]]\n",
      "Précision sur l'ensemble de test: 87.31%\n"
     ]
    }
   ],
   "source": [
    "import pandas as pd\n",
    "train = pd.read_csv('../input/titanic/train.csv')\n",
    "# BEGIN: Préparation des données pour le modèle MLP\n",
    "# Sélectionner les colonnes pertinentes et gérer les valeurs manquantes\n",
    "train = train[['Pclass', 'Sex', 'Age', 'SibSp', 'Parch', 'Fare', 'Embarked']]\n",
    "train = train.dropna()\n",
    "\n",
    "# Convertir les colonnes catégorielles en numériques\n",
    "train['Sex'] = train['Sex'].map({'male': 0, 'female': 1})\n",
    "train = pd.get_dummies(train, columns=['Embarked'], drop_first=True)\n",
    "\n",
    "# Normaliser les caractéristiques\n",
    "scaler = MinMaxScaler()\n",
    "X_train = scaler.fit_transform(train.drop('Pclass', axis=1))  # Supposons que 'Pclass' est la cible pour cet exemple\n",
    "\n",
    "# Appliquer one-hot encoding à la cible\n",
    "encoder = OneHotEncoder(sparse_output=False)\n",
    "y_train = encoder.fit_transform(train[['Pclass']])\n",
    "# END: Préparation des données pour le modèle MLP\n",
    "\n",
    "print(X_train)\n",
    "# Le nombre de sorties doit être 3 (one-hot encoding pour les classes 1, 2, 3)\n",
    "mlp = MLP(num_inputs=7, hidden_layers=[3,4], num_outputs=3)\n",
    "mlp.train(X_train, y_train, epochs=250, learning_rate=0.1)\n",
    "\n",
    "# Préparation des données de test pour le modèle MLP\n",
    "test = pd.read_csv('../input/titanic/test.csv')\n",
    "test = test[['Pclass', 'Sex', 'Age', 'SibSp', 'Parch', 'Fare', 'Embarked']]\n",
    "test = test.dropna()\n",
    "\n",
    "# Convertir les colonnes catégorielles en numériques\n",
    "test['Sex'] = test['Sex'].map({'male': 0, 'female': 1})\n",
    "test = pd.get_dummies(test, columns=['Embarked'], drop_first=True)\n",
    "\n",
    "# Normaliser les caractéristiques\n",
    "X_test = scaler.transform(test.drop('Pclass', axis=1))  # Supposons que 'Pclass' est la cible pour cet exemple\n",
    "print(X_test)\n",
    "# Appliquer one-hot encoding à la cible\n",
    "y_test = encoder.transform(test[['Pclass']])\n",
    "\n",
    "# Tester le modèle sur les données de test\n",
    "correct = 0\n",
    "for i, input in enumerate(X_test):\n",
    "    output = mlp.forward_propagate(input)\n",
    "    predicted_class = np.argmax(output)\n",
    "    true_class = np.argmax(y_test[i])\n",
    "    if predicted_class == true_class:\n",
    "        correct += 1\n",
    "\n",
    "print(\"Précision sur l'ensemble de test: {:.2f}%\".format((correct / len(X_test)) * 100))"
   ]
  },
  {
   "cell_type": "code",
   "execution_count": 14,
   "metadata": {},
   "outputs": [
    {
     "name": "stdout",
     "output_type": "stream",
     "text": [
      "Train data (X_train):\n",
      " [[0.5        1.         0.40939935 ... 0.05416439 0.         1.        ]\n",
      " [0.5        1.         0.52249309 ... 0.05074862 0.         1.        ]\n",
      " [0.5        0.         0.30887158 ... 0.02537431 0.         1.        ]\n",
      " ...\n",
      " [1.         0.         0.560191   ... 0.01571255 0.         1.        ]\n",
      " [0.5        0.         0.09525006 ... 0.07173122 0.         1.        ]\n",
      " [1.         0.         0.24604172 ... 0.01376068 0.         1.        ]]\n",
      "Test data (X_test):\n",
      " [[0.         1.         0.2963056  ... 0.13526459 0.         0.        ]\n",
      " [0.         1.         0.67328474 ... 0.15276642 0.         0.        ]\n",
      " [0.         0.         0.6481528  ... 0.15546645 0.         1.        ]\n",
      " ...\n",
      " [0.         0.         0.45966323 ... 0.1036443  0.         1.        ]\n",
      " [0.5        1.         0.22090978 ... 0.04489301 0.         1.        ]\n",
      " [1.         0.         0.39683338 ... 0.11027246 0.         1.        ]]\n",
      "Training complete!\n",
      "=====\n",
      "\n",
      "Accuracy on the test set: 83.22%\n"
     ]
    }
   ],
   "source": [
    "import pandas as pd\n",
    "from sklearn.model_selection import train_test_split\n",
    "from sklearn.preprocessing import MinMaxScaler, OneHotEncoder\n",
    "\n",
    "# Charger les données\n",
    "train = pd.read_csv('../input/titanic/train.csv')\n",
    "\n",
    "# BEGIN: Préparation des données pour le modèle MLP\n",
    "# Sélectionner les colonnes pertinentes et gérer les valeurs manquantes\n",
    "train = train[['Survived', 'Pclass', 'Sex', 'Age', 'SibSp', 'Parch', 'Fare', 'Embarked']]\n",
    "train = train.dropna()\n",
    "\n",
    "# Convertir les colonnes catégorielles en numériques\n",
    "train['Sex'] = train['Sex'].map({'male': 0, 'female': 1})\n",
    "train = pd.get_dummies(train, columns=['Embarked'], drop_first=True)\n",
    "\n",
    "# Séparer les caractéristiques (X) et la cible (y)\n",
    "X = train.drop('Survived', axis=1)\n",
    "y = train['Survived']\n",
    "\n",
    "# Diviser les données en ensembles d'entraînement et de test (80% train, 20% test)\n",
    "X_train, X_test, y_train, y_test = train_test_split(X, y, test_size=0.2, random_state=42)\n",
    "\n",
    "# Normaliser les caractéristiques\n",
    "scaler = MinMaxScaler()\n",
    "X_train = scaler.fit_transform(X_train)\n",
    "X_test = scaler.transform(X_test)  # Appliquer la même transformation aux données de test\n",
    "\n",
    "# Appliquer one-hot encoding à la cible (binaire dans ce cas)\n",
    "encoder = OneHotEncoder(sparse_output=False)\n",
    "y_train = encoder.fit_transform(y_train.values.reshape(-1, 1))\n",
    "y_test = encoder.transform(y_test.values.reshape(-1, 1))  # Appliquer la même transformation aux données de test\n",
    "# END: Préparation des données pour le modèle MLP\n",
    "\n",
    "# Afficher les données transformées\n",
    "print(\"Train data (X_train):\\n\", X_train)\n",
    "print(\"Test data (X_test):\\n\", X_test)\n",
    "\n",
    "# Initialiser et entraîner le modèle MLP\n",
    "mlp = MLP(num_inputs=X_train.shape[1], hidden_layers=[3, 4, 2], num_outputs=2)  # 2 sorties pour les classes 0 (non survécu) et 1 (survécu)\n",
    "mlp.train(X_train, y_train, epochs=250, learning_rate=0.1)\n",
    "\n",
    "# Tester le modèle sur les données de test\n",
    "correct = 0\n",
    "for i, input in enumerate(X_test):\n",
    "    output = mlp.forward_propagate(input)\n",
    "    predicted_class = np.argmax(output)  # Classe prédite\n",
    "    true_class = np.argmax(y_test[i])    # Classe réelle\n",
    "    \n",
    "    if predicted_class == true_class:\n",
    "        correct += 1\n",
    "\n",
    "# Afficher les résultats\n",
    "accuracy = (correct / len(X_test)) * 100\n",
    "print(\"\\nAccuracy on the test set: {:.2f}%\".format(accuracy))"
   ]
  },
  {
   "cell_type": "code",
   "execution_count": 5,
   "metadata": {},
   "outputs": [
    {
     "name": "stdout",
     "output_type": "stream",
     "text": [
      "   PassengerId  Pclass                                          Name     Sex  \\\n",
      "0          892       3                              Kelly, Mr. James    male   \n",
      "1          893       3              Wilkes, Mrs. James (Ellen Needs)  female   \n",
      "2          894       2                     Myles, Mr. Thomas Francis    male   \n",
      "3          895       3                              Wirz, Mr. Albert    male   \n",
      "4          896       3  Hirvonen, Mrs. Alexander (Helga E Lindqvist)  female   \n",
      "\n",
      "    Age  SibSp  Parch   Ticket     Fare Cabin Embarked  Survived  \n",
      "0  34.5      0      0   330911   7.8292   NaN        Q         0  \n",
      "1  47.0      1      0   363272   7.0000   NaN        S         1  \n",
      "2  62.0      0      0   240276   9.6875   NaN        Q         0  \n",
      "3  27.0      0      0   315154   8.6625   NaN        S         0  \n",
      "4  22.0      1      1  3101298  12.2875   NaN        S         1  \n"
     ]
    }
   ],
   "source": [
    "import pandas as pd\n",
    "\n",
    "# Lire les deux fichiers CSV\n",
    "df1 = pd.read_csv('../input/titanic/test.csv')\n",
    "df2 = pd.read_csv('../input/titanic/gender_submission.csv')\n",
    "\n",
    "# Fusionner les deux DataFrames sur la colonne 'PassengerId'\n",
    "# Par défaut, cela fait une jointure interne (inner join)\n",
    "merged_df = pd.merge(df1, df2, on='PassengerId', how='inner')\n",
    "\n",
    "# Afficher le DataFrame fusionné\n",
    "print(merged_df.head())\n",
    "\n",
    "# Si tu veux enregistrer le DataFrame fusionné dans un nouveau fichier CSV\n",
    "merged_df.to_csv('fichier_fusionné.csv', index=False)\n"
   ]
  },
  {
   "cell_type": "code",
   "execution_count": null,
   "metadata": {},
   "outputs": [],
   "source": []
  }
 ],
 "metadata": {
  "kernelspec": {
   "display_name": "Python 3",
   "language": "python",
   "name": "python3"
  },
  "language_info": {
   "codemirror_mode": {
    "name": "ipython",
    "version": 3
   },
   "file_extension": ".py",
   "mimetype": "text/x-python",
   "name": "python",
   "nbconvert_exporter": "python",
   "pygments_lexer": "ipython3",
   "version": "3.12.7"
  }
 },
 "nbformat": 4,
 "nbformat_minor": 2
}
