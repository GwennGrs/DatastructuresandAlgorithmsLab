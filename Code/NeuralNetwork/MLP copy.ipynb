{
 "cells": [
  {
   "cell_type": "code",
   "execution_count": 1,
   "metadata": {},
   "outputs": [
    {
     "name": "stdout",
     "output_type": "stream",
     "text": [
      "Training complete!\n",
      "=====\n",
      "\n",
      "Précision sur l'ensemble de test: 96.67%\n"
     ]
    }
   ],
   "source": [
    "import numpy as np\n",
    "from sklearn import datasets\n",
    "from sklearn.model_selection import train_test_split\n",
    "from sklearn.preprocessing import OneHotEncoder, MinMaxScaler\n",
    "from multilayerPerceptron import MLP\n",
    "\n",
    "# Charger et préparer les données\n",
    "iris = datasets.load_iris()\n",
    "\n",
    "# Charger les caractéristiques (features) et les étiquettes (labels)\n",
    "X = iris.data  # Caractéristiques\n",
    "y = iris.target.reshape(-1, 1)  # Labels\n",
    "\n",
    "# Normaliser les caractéristiques (X) entre 0 et 1\n",
    "scaler = MinMaxScaler()\n",
    "X_scaled = scaler.fit_transform(X)\n",
    "\n",
    "# Appliquer one-hot encoding aux labels\n",
    "encoder = OneHotEncoder(sparse_output=False)\n",
    "y_encoded = encoder.fit_transform(y)\n",
    "\n",
    "# Diviser le jeu de données en ensemble d'entraînement et de test\n",
    "X_train, X_test, y_train, y_test = train_test_split(X_scaled, y_encoded, test_size=0.2)\n",
    "\n",
    "    # Étape 2 : Créer et entraîner le MLP\n",
    "mlp = MLP(num_inputs=4, hidden_layers=[5], num_outputs=3)  # 4 entrées, 1 couche cachée avec 5 neurones, 3 sorties\n",
    "mlp.train(X_train, y_train, epochs=250, learning_rate=0.1)\n",
    "\n",
    "    # Étape 3 : Tester le MLP sur les données de test\n",
    "correct = 0\n",
    "for i, input in enumerate(X_test):\n",
    "    # Faire une prédiction\n",
    "    output = mlp.forward_propagate(input)\n",
    "\n",
    "        # Trouver l'index de la classe prédite (avec la plus grande probabilité)\n",
    "    predicted_class = np.argmax(output)\n",
    "        \n",
    "        # Trouver l'index de la vraie classe\n",
    "    true_class = np.argmax(y_test[i])\n",
    "        \n",
    "    if predicted_class == true_class:\n",
    "        correct += 1\n",
    "\n",
    "    # Afficher les résultats\n",
    "print()\n",
    "print(\"Précision sur l'ensemble de test: {:.2f}%\".format((correct / len(X_test)) * 100))"
   ]
  },
  {
   "cell_type": "code",
   "execution_count": 2,
   "metadata": {},
   "outputs": [
    {
     "name": "stdout",
     "output_type": "stream",
     "text": [
      "[0.13888889 0.41666667 0.06779661 0.08333333] [1. 0. 0.]\n",
      "Class prédite 0  vrai classe 0\n"
     ]
    }
   ],
   "source": [
    "from random import randint\n",
    "nb = randint(1,29)\n",
    "print(X_test[nb], y_test[nb])\n",
    "output = mlp.forward_propagate(X_test[nb])\n",
    "predicted_class = np.argmax(output)\n",
    "true_class = np.argmax(y_test[nb])\n",
    "print(\"Class prédite\", predicted_class, \" vrai classe\", true_class)\n"
   ]
  },
  {
   "cell_type": "code",
   "execution_count": null,
   "metadata": {},
   "outputs": [],
   "source": []
  }
 ],
 "metadata": {
  "kernelspec": {
   "display_name": "Python 3",
   "language": "python",
   "name": "python3"
  },
  "language_info": {
   "codemirror_mode": {
    "name": "ipython",
    "version": 3
   },
   "file_extension": ".py",
   "mimetype": "text/x-python",
   "name": "python",
   "nbconvert_exporter": "python",
   "pygments_lexer": "ipython3",
   "version": "3.12.6"
  }
 },
 "nbformat": 4,
 "nbformat_minor": 2
}
